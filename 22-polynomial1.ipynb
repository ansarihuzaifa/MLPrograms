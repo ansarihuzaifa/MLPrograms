{
 "cells": [
  {
   "cell_type": "code",
   "execution_count": 33,
   "metadata": {},
   "outputs": [],
   "source": [
    "import numpy as np\n",
    "import matplotlib.pyplot as plt"
   ]
  },
  {
   "cell_type": "code",
   "execution_count": 34,
   "metadata": {},
   "outputs": [],
   "source": [
    "x=np.array([-3.29215704,  0.79952837, -0.93621395, -4.7226796 , -3.60267397,\n",
    "        4.93183364, -0.85026525,  2.45407162,  2.30965656,  0.76820449,\n",
    "        1.56786929, -2.36282052, -0.28311318,  1.63497495,  0.6684103 ,\n",
    "        0.99897702, -2.48223722,  2.61547479,  1.0607969 ,  4.56228722])\n",
    "y=np.array([ -53.46841187,   -1.26255958,   -3.50619264, -107.22320039,\n",
    "        -49.13195018,    8.90122353,   -5.46624176,   -5.76263165,\n",
    "         -0.60058568,    1.2226779 ,   -3.95663744,  -21.98989452,\n",
    "         -6.11812275,  -10.46843964,   -4.11955719,   -3.02941914,\n",
    "        -21.76152272,   -1.51295226,   -4.75491157,    6.50723268])"
   ]
  },
  {
   "cell_type": "code",
   "execution_count": 35,
   "metadata": {},
   "outputs": [
    {
     "data": {
      "image/png": "[encoded data removed]",
      "text/plain": [
       "<Figure size 432x288 with 1 Axes>"
      ]
     },
     "metadata": {
      "needs_background": "light"
     },
     "output_type": "display_data"
    }
   ],
   "source": [
    "plt.scatter(x,y,s=10)\n",
    "plt.show()"
   ]
  },
  {
   "cell_type": "code",
   "execution_count": 36,
   "metadata": {},
   "outputs": [],
   "source": [
    "import numpy as np\n",
    "import matplotlib.pyplot as plt\n",
    "from sklearn.linear_model import LinearRegression"
   ]
  },
  {
   "cell_type": "code",
   "execution_count": 37,
   "metadata": {},
   "outputs": [
    {
     "data": {
      "text/plain": [
       "(20,)"
      ]
     },
     "execution_count": 37,
     "metadata": {},
     "output_type": "execute_result"
    }
   ],
   "source": [
    "x.shape"
   ]
  },
  {
   "cell_type": "code",
   "execution_count": 38,
   "metadata": {},
   "outputs": [
    {
     "data": {
      "text/plain": [
       "(20,)"
      ]
     },
     "execution_count": 38,
     "metadata": {},
     "output_type": "execute_result"
    }
   ],
   "source": [
    "y.shape"
   ]
  },
  {
   "cell_type": "code",
   "execution_count": 39,
   "metadata": {},
   "outputs": [],
   "source": [
    "x=x[:,np.newaxis]\n",
    "y=y[:,np.newaxis]"
   ]
  },
  {
   "cell_type": "code",
   "execution_count": 41,
   "metadata": {},
   "outputs": [
    {
     "data": {
      "text/plain": [
       "LinearRegression(copy_X=True, fit_intercept=True, n_jobs=1, normalize=False)"
      ]
     },
     "execution_count": 41,
     "metadata": {},
     "output_type": "execute_result"
    }
   ],
   "source": [
    "model=LinearRegression()\n",
    "model.fit(x,y)\n"
   ]
  },
  {
   "cell_type": "code",
   "execution_count": 42,
   "metadata": {},
   "outputs": [
    {
     "data": {
      "text/plain": [
       "array([[-44.09629273],\n",
       "       [-10.16645157],\n",
       "       [-24.55989958],\n",
       "       [-55.9587402 ],\n",
       "       [-46.67121945],\n",
       "       [ 24.10022521],\n",
       "       [-23.84717965],\n",
       "       [  3.55366228],\n",
       "       [  2.35611663],\n",
       "       [-10.42620132],\n",
       "       [ -3.79507089],\n",
       "       [-36.38987414],\n",
       "       [-19.14413488],\n",
       "       [ -3.23860475],\n",
       "       [-11.25373342],\n",
       "       [ -8.51254607],\n",
       "       [-37.38012369],\n",
       "       [  4.89207992],\n",
       "       [ -7.99991166],\n",
       "       [ 21.03580308]])"
      ]
     },
     "execution_count": 42,
     "metadata": {},
     "output_type": "execute_result"
    }
   ],
   "source": [
    "y_pred=model.predict(x)\n",
    "y_pred"
   ]
  },
  {
   "cell_type": "code",
   "execution_count": 43,
   "metadata": {},
   "outputs": [
    {
     "data": {
      "image/png": "[encoded data removed]",
      "text/plain": [
       "<Figure size 432x288 with 1 Axes>"
      ]
     },
     "metadata": {
      "needs_background": "light"
     },
     "output_type": "display_data"
    }
   ],
   "source": [
    "plt.scatter(x,y,s=10)\n",
    "plt.plot(x,y_pred,color='r')\n",
    "plt.show()"
   ]
  },
  {
   "cell_type": "code",
   "execution_count": 44,
   "metadata": {},
   "outputs": [
    {
     "data": {
      "text/plain": [
       "LinearRegression(copy_X=True, fit_intercept=True, n_jobs=1, normalize=False)"
      ]
     },
     "execution_count": 44,
     "metadata": {},
     "output_type": "execute_result"
    }
   ],
   "source": [
    "from sklearn.linear_model import LinearRegression\n",
    "regressor=LinearRegression()\n",
    "regressor.fit(x,y)"
   ]
  },
  {
   "cell_type": "code",
   "execution_count": 45,
   "metadata": {},
   "outputs": [
    {
     "name": "stdout",
     "output_type": "stream",
     "text": [
      "MAE 11.889431200644736\n"
     ]
    }
   ],
   "source": [
    "from sklearn import metrics\n",
    "regressor.score(x,y)\n",
    "print('MAE',metrics.mean_absolute_error(y,y_pred))"
   ]
  },
  {
   "cell_type": "code",
   "execution_count": 46,
   "metadata": {},
   "outputs": [
    {
     "name": "stdout",
     "output_type": "stream",
     "text": [
      "MAE 11.889431200644736\n"
     ]
    },
    {
     "data": {
      "text/plain": [
       "0.6386750056343062"
      ]
     },
     "execution_count": 46,
     "metadata": {},
     "output_type": "execute_result"
    }
   ],
   "source": [
    "from sklearn import metrics\n",
    "print('MAE',metrics.mean_absolute_error(y,y_pred))\n",
    "np.mean(y)\n",
    "regressor.score(x,y)"
   ]
  },
  {
   "cell_type": "code",
   "execution_count": null,
   "metadata": {},
   "outputs": [],
   "source": []
  }
 ],
 "metadata": {
  "kernelspec": {
   "display_name": "Python 3",
   "language": "python",
   "name": "python3"
  },
  "language_info": {
   "codemirror_mode": {
    "name": "ipython",
    "version": 3
   },
   "file_extension": ".py",
   "mimetype": "text/x-python",
   "name": "python",
   "nbconvert_exporter": "python",
   "pygments_lexer": "ipython3",
   "version": "3.7.0"
  }
 },
 "nbformat": 4,
 "nbformat_minor": 2
}
